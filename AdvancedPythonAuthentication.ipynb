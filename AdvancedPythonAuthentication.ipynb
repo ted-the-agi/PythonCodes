{
  "nbformat": 4,
  "nbformat_minor": 0,
  "metadata": {
    "colab": {
      "provenance": [],
      "authorship_tag": "ABX9TyPWrmooaWZpPlba4s0fUNYJ",
      "include_colab_link": true
    },
    "kernelspec": {
      "name": "python3",
      "display_name": "Python 3"
    },
    "language_info": {
      "name": "python"
    }
  },
  "cells": [
    {
      "cell_type": "markdown",
      "metadata": {
        "id": "view-in-github",
        "colab_type": "text"
      },
      "source": [
        "<a href=\"https://colab.research.google.com/github/ted-the-agi/PythonCodes/blob/main/AdvancedPythonAuthentication.ipynb\" target=\"_parent\"><img src=\"https://colab.research.google.com/assets/colab-badge.svg\" alt=\"Open In Colab\"/></a>"
      ]
    },
    {
      "cell_type": "code",
      "execution_count": null,
      "metadata": {
        "colab": {
          "base_uri": "https://localhost:8080/"
        },
        "cellView": "form",
        "id": "yZrvdW9ZyDWj",
        "outputId": "40ee3d98-c33c-4e35-a080-dda1e7895cd1"
      },
      "outputs": [
        {
          "output_type": "stream",
          "name": "stdout",
          "text": [
            "Login successful!\n"
          ]
        }
      ],
      "source": [
        "#@title LOGIN\n",
        "\n",
        "import csv\n",
        "import hashlib\n",
        "import requests\n",
        "import base64\n",
        "import sqlite3\n",
        "\n",
        "DATABASE_URL_ENCODED = \"base64_link_to_the_csv_file\"\n",
        "EXPECTED_CHECKSUM = \"md5_checksum_of_the_file\"\n",
        "\n",
        "def download_database(url):\n",
        "    response = requests.get(url)\n",
        "    if response.status_code == 200:\n",
        "        return response.content\n",
        "    else:\n",
        "        raise Exception(\"Failed to download the database file.\")\n",
        "\n",
        "def decode_database_url():\n",
        "    encoded_url = base64.b64decode(DATABASE_URL_ENCODED).decode(\"utf-8\")\n",
        "    return encoded_url\n",
        "\n",
        "def create_database():\n",
        "    conn = sqlite3.connect(\":memory:\")  # Create an in-memory database\n",
        "    return conn\n",
        "\n",
        "def populate_database(conn, data):\n",
        "    cursor = conn.cursor()\n",
        "    query = \"CREATE TABLE users (username TEXT, password_hash TEXT);\"\n",
        "    cursor.execute(query)\n",
        "\n",
        "    for row in data:\n",
        "        if len(row) >= 2:\n",
        "            username = row[0]\n",
        "            password_hash = row[1]\n",
        "            query = \"INSERT INTO users (username, password_hash) VALUES (?, ?);\"\n",
        "            cursor.execute(query, (username, password_hash))\n",
        "\n",
        "    conn.commit()\n",
        "\n",
        "def login():\n",
        "    username = \"\" #@param {type:\"string\"}\n",
        "    password = \"\" #@param {type:\"string\"}\n",
        "    password_hash = hashlib.sha256(password.encode()).hexdigest()\n",
        "\n",
        "    database_url = decode_database_url()\n",
        "    database_content = download_database(database_url)\n",
        "    database_content = database_content.decode(\"utf-8\").splitlines()\n",
        "    reader = csv.reader(database_content)\n",
        "\n",
        "    conn = create_database()\n",
        "    populate_database(conn, reader)\n",
        "\n",
        "    cursor = conn.cursor()\n",
        "    query = \"SELECT * FROM users WHERE username = ? AND password_hash = ?\"\n",
        "    cursor.execute(query, (username, password_hash))\n",
        "    row = cursor.fetchone()\n",
        "    if row:\n",
        "        print(\"Login successful!\")\n",
        "    else:\n",
        "        print(\"Invalid username or password.\")\n",
        "\n",
        "    conn.close()\n",
        "\n",
        "login()\n"
      ]
    }
  ]
}